{
 "cells": [
  {
   "cell_type": "code",
   "execution_count": 2,
   "metadata": {},
   "outputs": [],
   "source": [
    "import sys\n",
    "sys.path.insert(0, '..')\n",
    "\n",
    "from ieml.ieml_database import GitInterface, IEMLDatabase\n",
    "gitdb = GitInterface()\n",
    "gitdb.pull() # download database in ~/.cache/ieml/ folder\n",
    "db = IEMLDatabase(folder=gitdb.folder)"
   ]
  },
  {
   "cell_type": "code",
   "execution_count": 11,
   "metadata": {},
   "outputs": [
    {
     "name": "stderr",
     "output_type": "stream",
     "text": [
      "CannotParse(\"E:.-A:.p.-t.o.-' t.o.-n.o.-j.-'\", \"Morpheme E:.-A:.p.-t.o.-' not defined in dictionary\")\n",
      "CannotParse(\"E:.-A:.h.-t.o.-' t.o.-n.o.-j.-'\", \"Morpheme E:.-A:.h.-t.o.-' not defined in dictionary\")\n",
      "CannotParse(\"E:.-A:.j.-t.o.-' t.o.-n.o.-j.-'\", \"Morpheme E:.-A:.j.-t.o.-' not defined in dictionary\")\n",
      "CannotParse(\"E:.-U:.p.-t.o.-' E:.-A:.p.-t.o.-' t.o.-n.o.-j.-'\", \"Morpheme E:.-U:.p.-t.o.-' not defined in dictionary\")\n",
      "CannotParse(\"E:.-U:.j.-t.o.-' E:.-A:.j.-t.o.-' t.o.-n.o.-j.-'\", \"Morpheme E:.-U:.j.-t.o.-' not defined in dictionary\")\n",
      "CannotParse(\"t.o.-n.o.-j.-' m2(E:.-U:.j.-t.o.-' E:.-U:.p.-t.o.-' E:.-A:.j.-t.o.-' E:.-A:.h.-t.o.-' E:.-A:.p.-t.o.-')\", \"Morpheme E:.-U:.j.-t.o.-' not defined in dictionary\")\n",
      "CannotParse(\"E:.-U:.h.-t.o.-'\", \"Morpheme E:.-U:.h.-t.o.-' not defined in dictionary\")\n",
      "CannotParse(\"E:.-A:.g.-t.o.-'\", \"Morpheme E:.-A:.g.-t.o.-' not defined in dictionary\")\n",
      "CannotParse(\"E:.-A:.h.-t.o.-'\", \"Morpheme E:.-A:.h.-t.o.-' not defined in dictionary\")\n",
      "CannotParse(\"E:.-A:.p.-t.o.-'\", \"Morpheme E:.-A:.p.-t.o.-' not defined in dictionary\")\n",
      "CannotParse(\"E:.-A:.c.-t.o.-'\", \"Morpheme E:.-A:.c.-t.o.-' not defined in dictionary\")\n",
      "CannotParse(\"E:.-A:.x.-t.o.-'\", \"Morpheme E:.-A:.x.-t.o.-' not defined in dictionary\")\n",
      "CannotParse(\"E:.-h.-t.o.-'\", \"Morpheme E:.-h.-t.o.-' not defined in dictionary\")\n",
      "CannotParse(\"E:.-U:.j.-t.o.-'\", \"Morpheme E:.-U:.j.-t.o.-' not defined in dictionary\")\n",
      "CannotParse(\"E:.-U:.c.-t.o.-'\", \"Morpheme E:.-U:.c.-t.o.-' not defined in dictionary\")\n",
      "CannotParse(\"E:.-p.-t.o.-'\", \"Morpheme E:.-p.-t.o.-' not defined in dictionary\")\n",
      "CannotParse(\"E:.-A:.j.-t.o.-'\", \"Morpheme E:.-A:.j.-t.o.-' not defined in dictionary\")\n",
      "CannotParse(\"E:.-U:.g.-t.o.-'\", \"Morpheme E:.-U:.g.-t.o.-' not defined in dictionary\")\n",
      "CannotParse(\"E:.-U:.p.-t.o.-'\", \"Morpheme E:.-U:.p.-t.o.-' not defined in dictionary\")\n",
      "CannotParse('n.-', 'Morpheme n.- not defined in dictionary')\n",
      "CannotParse(\"E:.-U:.x.-t.o.-'\", \"Morpheme E:.-U:.x.-t.o.-' not defined in dictionary\")\n",
      "CannotParse(\"E:.-j.-t.o.-'\", \"Morpheme E:.-j.-t.o.-' not defined in dictionary\")\n",
      "CannotParse(\"E:.-O:.M:O:.-t.o.-'\", \"Morpheme E:.-O:.M:O:.-t.o.-' not defined in dictionary\")\n",
      "CannotParse(\"E:.-A:.M:O:.-t.o.-'\", \"Morpheme E:.-A:.M:O:.-t.o.-' not defined in dictionary\")\n",
      "CannotParse(\"E:.M:.-t.o.-'\", \"Morpheme E:.M:.-t.o.-' not defined in dictionary\")\n",
      "CannotParse(\"E:.-O:.x.-t.o.-'\", \"Morpheme E:.-O:.x.-t.o.-' not defined in dictionary\")\n",
      "CannotParse(\"E:.-O:.j.-t.o.-'\", \"Morpheme E:.-O:.j.-t.o.-' not defined in dictionary\")\n",
      "CannotParse(\"E:.-O:.c.-t.o.-'\", \"Morpheme E:.-O:.c.-t.o.-' not defined in dictionary\")\n",
      "CannotParse(\"E:.-U:.M:O:.-t.o.-'\", \"Morpheme E:.-U:.M:O:.-t.o.-' not defined in dictionary\")\n",
      "CannotParse(\"E:.-O:.h.-t.o.-'\", \"Morpheme E:.-O:.h.-t.o.-' not defined in dictionary\")\n",
      "CannotParse(\"E:.-M:U:.-t.o.-'\", \"Morpheme E:.-M:U:.-t.o.-' not defined in dictionary\")\n",
      "CannotParse('n.I:.-', 'Morpheme n.I:.- not defined in dictionary')\n",
      "CannotParse(\"E:.-O:.g.-t.o.-'\", \"Morpheme E:.-O:.g.-t.o.-' not defined in dictionary\")\n",
      "CannotParse(\"E:.-O:.p.-t.o.-'\", \"Morpheme E:.-O:.p.-t.o.-' not defined in dictionary\")\n"
     ]
    }
   ],
   "source": [
    "# parse all usls\n",
    "usls = db.list(parse=True)"
   ]
  },
  {
   "cell_type": "code",
   "execution_count": 16,
   "metadata": {},
   "outputs": [
    {
     "data": {
      "text/plain": [
       "True"
      ]
     },
     "execution_count": 16,
     "metadata": {},
     "output_type": "execute_result"
    }
   ],
   "source": [
    "from ieml.usl import USL\n",
    "from ieml.dictionary.script import Script\n",
    "\n",
    "# the database contains the morphemes and the usls made from morphemes\n",
    "all(isinstance(u, (USL, Script)) for u in usls) "
   ]
  },
  {
   "cell_type": "code",
   "execution_count": 35,
   "metadata": {},
   "outputs": [],
   "source": [
    "descriptorsDB = db.get_descriptors()\n",
    "def display_usls(u):\n",
    "    descriptor = descriptorsDB.get_values_partial(u)\n",
    "    # descriptor is a dict :\n",
    "    # { (ieml, descriptor_type, lang) : string[]}\n",
    "    # descriptor_type in ieml.constants.DESCRIPTORS_CLASS = ['translations', 'comments', 'tags']\n",
    "    # lang in ieml.constants.LANGUAGES = [ 'fr', 'en' ]  \n",
    "    \n",
    "    return str(u) +\\\n",
    "        \"\".join(\"\\n\\t{}: {}\".format(k, str(v)) for k, v in {\n",
    "            **{'{}_{}'.format(descriptor_type, lang): ', '.join(t) \n",
    "               for (_, descriptor_type, lang), t in descriptor.items()},\n",
    "            'type': u.__class__.__name__,\n",
    "            'is_paradigm': not u.is_singular,\n",
    "            \n",
    "        }.items())"
   ]
  },
  {
   "cell_type": "code",
   "execution_count": 36,
   "metadata": {},
   "outputs": [
    {
     "name": "stdout",
     "output_type": "stream",
     "text": [
      "O:O:.\n",
      "\ten_comments: In order to understand O x O we have to think about the basic sensorimotor cycle. Let's begin with the inner sanctum of personal existence that does not manifest externally: to exist. Then, from this virtual place, we act. As a result, our actual environment is transformed and a new reality appears or happens. Finally, from the actuality of external happening, we perceive back to our inner existence. Note the two intertwined oppositions : \\n\\n• wa act (in –> out) / wu perceive (out –> in) \\n\\n• wo exist (in –> in) / we appear (out –> out)\\n\\nwo wa wu we can be used to model any quaternary semantic symmetry. They can also be used to « verbify » nominal semes when creating new words.\n",
      "\ten_translations: interaction phases, tetrad\n",
      "\tfr_translations: phases de l'interaction, tétrade\n",
      "\ttype: MultiplicativeScript\n",
      "\tis_paradigm: True\n"
     ]
    }
   ],
   "source": [
    "from ieml.usl.usl import usl\n",
    "\n",
    "# usl() parse the string and return an Usl or a Script (if a morpheme)\n",
    "oo_script = usl('O:O:.')\n",
    "assert isinstance(oo_script, Script)\n",
    "\n",
    "print(display_usls(usl('O:O:.')))"
   ]
  },
  {
   "cell_type": "code",
   "execution_count": null,
   "metadata": {},
   "outputs": [],
   "source": []
  }
 ],
 "metadata": {
  "kernelspec": {
   "display_name": "Python 3.6.5",
   "language": "python",
   "name": "other-env"
  },
  "language_info": {
   "codemirror_mode": {
    "name": "ipython",
    "version": 3
   },
   "file_extension": ".py",
   "mimetype": "text/x-python",
   "name": "python",
   "nbconvert_exporter": "python",
   "pygments_lexer": "ipython3",
   "version": "3.6.5"
  }
 },
 "nbformat": 4,
 "nbformat_minor": 1
}
