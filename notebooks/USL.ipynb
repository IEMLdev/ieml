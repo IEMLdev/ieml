{
 "cells": [
  {
   "cell_type": "code",
   "execution_count": 1,
   "metadata": {},
   "outputs": [],
   "source": [
    "# add ieml library to kernel path\n",
    "import sys\n",
    "sys.path.insert(0, '..')"
   ]
  },
  {
   "cell_type": "markdown",
   "metadata": {},
   "source": [
    "The ieml library exposes a parser (ieml.usl.parser) that parses ieml strings (including older versions) and return a normalised ieml.usl.USL object or a ieml.dictionary.Script (a morpheme). For the moment only ieml.usl.Word are valid ieml.usl.USL.\n",
    "\n",
    "The ieml.usl.USL can be checked for coherancy with ieml.usl.USL.check(). That feature should be added in a strict mode for the parser."
   ]
  },
  {
   "cell_type": "code",
   "execution_count": 5,
   "metadata": {},
   "outputs": [
    {
     "name": "stdout",
     "output_type": "stream",
     "text": [
      "[E:.b.E:B:.- E:S:. (E:.-wa.-t.o.-' E:.-'wu.-S:.-'t.o.-',)(a.T:.-) > ! E:.l.- (E:.wo.- E:S:.-d.u.-')]\n",
      "[E:.b.E:B:.- E:S:. (E:.-wa.-t.o.-' E:.-'wu.-S:.-'t.o.-',)(a.T:.-) > ! E:.l.- (E:.wo.- E:S:.-d.u.-')]\n"
     ]
    }
   ],
   "source": [
    "from ieml.usl.usl import usl\n",
    "u = usl(\"[E:.b.E:B:.- E:S:. (E:.-wa.-t.o.-' E:.-'wu.-S:.-'t.o.-',)(a.T:.-) > ! E:.l.- (E:.wo.- E:S:.-d.u.-')]\")\n",
    "u.check()\n",
    "print(u)\n",
    "u1 = usl(\"[E:.b.E:B:.- E:S:. (E:.-'wu.-S:.-'t.o.-', E:.-wa.-t.o.-' )(a.T:.-) > ! E:.l.- (E:.wo.- E:S:.-d.u.-')]\")\n",
    "u1.check()\n",
    "print(u1)\n",
    "assert u1 == u"
   ]
  },
  {
   "cell_type": "markdown",
   "metadata": {},
   "source": [
    "The ieml lexicons are stored on github, they have to be downloaded first"
   ]
  },
  {
   "cell_type": "code",
   "execution_count": 7,
   "metadata": {},
   "outputs": [
    {
     "name": "stdout",
     "output_type": "stream",
     "text": [
      "<ieml.ieml_database.git_interface.GitInterface object at 0x7f63100b8d68>\n",
      "<ieml.ieml_database.ieml_database (/home/louis/.cache/ieml/1.0.3/e3050257e00f171aa548e17e73fe562e cache=/home/louis/.cache/ieml/1.0.3/e3050257e00f171aa548e17e73fe562e)>\n"
     ]
    }
   ],
   "source": [
    "from ieml.ieml_database import GitInterface, IEMLDatabase\n",
    "gitdb = GitInterface()\n",
    "gitdb.pull() # download database in ~/.cache/ieml/ folder\n",
    "print(gitdb)\n",
    "\n",
    "# instanciate a ieml.ieml_database.IEMLDatabase from the downloaded git repository\n",
    "db = IEMLDatabase(folder=gitdb.folder)\n",
    "print(db)"
   ]
  },
  {
   "cell_type": "markdown",
   "metadata": {},
   "source": [
    "The ieml.ieml_database.IEMLDatabase is responsible of reading and writing association between ieml.usl.USL and ieml.dictionary.Script with their translation to disk. The values as stored in rows in one file per USL. The format of the rows are space separated values (ssv like csv or tsv).\n"
   ]
  },
  {
   "cell_type": "markdown",
   "metadata": {},
   "source": [
    "# ieml.dictionary.Script\n",
    "\n",
    "The Script is a old name for morphemes. The "
   ]
  },
  {
   "cell_type": "markdown",
   "metadata": {},
   "source": [
    "# Words"
   ]
  },
  {
   "cell_type": "code",
   "execution_count": 16,
   "metadata": {},
   "outputs": [
    {
     "data": {
      "text/plain": [
       "'E:.l.-'"
      ]
     },
     "execution_count": 16,
     "metadata": {},
     "output_type": "execute_result"
    }
   ],
   "source": [
    "# ou se trouve le pointd'exclamation\n",
    "str(u.role)"
   ]
  },
  {
   "cell_type": "code",
   "execution_count": 24,
   "metadata": {},
   "outputs": [
    {
     "name": "stdout",
     "output_type": "stream",
     "text": [
      "E:T:. (E:.-wa.-t.o.-' E:.-'wu.-S:.-'t.o.-',)(a.T:.-)\n",
      "E:.l.- (E:.wo.- E:S:.-d.u.-')\n"
     ]
    }
   ],
   "source": [
    "print('\\n'.join(str(r) + ' ' + str(a.actor) for r, a in u.syntagmatic_fun.actors.items()))"
   ]
  },
  {
   "cell_type": "code",
   "execution_count": 29,
   "metadata": {
    "scrolled": true
   },
   "outputs": [
    {
     "name": "stdout",
     "output_type": "stream",
     "text": [
      "E:S:. process\n",
      "E:T:. process\n",
      "E:B:. process\n",
      "E:.n.- initiator\n",
      "E:.d.- interactant\n",
      "E:.k.- recipient\n",
      "E:.t.- time\n",
      "E:.l.- location\n",
      "E:.f.- manner\n",
      "E:.s.- cause\n",
      "E:.m.- intention\n",
      "E:A:. dependant\n",
      "E:U:. independant\n"
     ]
    }
   ],
   "source": [
    "from ieml.usl.constants import ADDRESS_SCRIPTS,NAMES_TO_ADDRESS \n",
    "\n",
    "# list des roles syntagmatic\n",
    "print('\\n'.join(str(r) + ' ' + NAMES_TO_ADDRESS[r] for r in ADDRESS_SCRIPTS))"
   ]
  },
  {
   "cell_type": "code",
   "execution_count": null,
   "metadata": {},
   "outputs": [],
   "source": []
  },
  {
   "cell_type": "code",
   "execution_count": 35,
   "metadata": {},
   "outputs": [
    {
     "data": {
      "text/plain": [
       "[\"[E:.b.E:B:.- ! E:.s.- (E:.wo.- E:S:.-d.u.-')(E:T:.x.- s.e.-s.u.-')]\",\n",
       " \"[E:.b.E:B:.- ! E:.f.- (E:.wo.- E:.A:.c.- E:.-n.S:.-' E:S:.-d.u.-')(f.a.-m.a.-')]\",\n",
       " \"[E:.b.E:B:.- ! E:.f.- (E:.wo.- E:S:.-d.u.-')(k.o.-t.o.-')]\",\n",
       " \"[E:.b.E:B:.- ! E:A:. (E:.wo.- E:S:.-d.u.-')(E:S:T:.)]\",\n",
       " \"[E:.b.E:B:.- ! E:.f.- (E:.wo.- E:S:.-d.u.-')(wu.wu.t.-)]\",\n",
       " \"[E:.b.E:B:.- ! E:.l.- (E:.wo.- E:.-U:.f.-l.-' E:S:.-d.u.-')(k.i.-l.i.-')]\",\n",
       " \"[E:.b.E:B:.- ! E:.l.- (E:.wo.- E:.-U:.t.-l.-' E:S:.-d.u.-')(k.i.-l.i.-')]\",\n",
       " \"[E:.b.E:B:.- ! E:.f.- (E:.wo.- E:S:.-d.u.-')(t.o.-k.o.-')]\",\n",
       " \"[E:.b.E:B:.- ! E:A:. (E:.wo.- E:S:.-d.u.-')(m.-T:.U:.-') > E:A:. E:U:. (E:B:.-d.u.-')(p.E:A:T:.-)]\",\n",
       " \"[E:.b.E:B:.- E:B:. (E:.-wa.-t.o.-' E:.-'we.-S:.-'t.o.-',)(i.k.-) > ! E:.n.- (E:.wo.- E:.-n.S:.-' E:S:.-d.u.-')]\",\n",
       " \"[E:.b.E:B:.- ! E:A:. (E:.wo.- E:S:.-d.u.-')(E:.A:.j.-)]\",\n",
       " \"[E:.b.E:B:.- E:S:. (E:.-wa.-t.o.-' E:.-'wu.-S:.-'t.o.-',)(u.A:.-) > ! E:.n.- (E:.wo.- E:S:.-d.u.-')(l.-T:.U:.-',n.-T:.A:.-',t.o.-f.o.-',_) > E:.l.- (E:.wo.- E:.-U:.d.-l.-' E:S:.-d.u.-')(n.-T:.U:.-') > E:.f.- (E:.wo.- E:S:.-d.u.-')(n.i.-d.i.-t.u.-') > E:.s.- (E:.wo.- E:T:.h.- E:S:.-d.u.-')(s.j.- d.-S:.U:.-')]\",\n",
       " \"[E:.b.E:B:.- ! E:.s.- (E:.wo.- E:S:.x.- E:S:.-d.u.-')(l.-T:.U:.-',n.-T:.A:.-',t.o.-f.o.-',_)]\",\n",
       " \"[E:.b.E:B:.- ! E:.l.- (E:.wo.- E:.-A:.b.-l.-' E:S:.-d.u.-')(k.i.-l.i.-')]\",\n",
       " \"[E:.b.E:B:.- E:B:. (E:.-wa.-t.o.-' E:.-'we.-S:.-'t.o.-',)(i.k.-) > ! E:.k.- (E:.wo.- E:.-n.S:.-' E:S:.-d.u.-')(b.a.-b.a.-f.o.-')]\",\n",
       " \"[E:.b.E:B:.- E:S:. (E:.-wa.-t.o.-' E:.-'wu.-S:.-'t.o.-',)(u.A:.-) > ! E:.n.- (E:.wo.- E:S:.-d.u.-')(l.-T:.U:.-',n.-T:.A:.-',t.o.-f.o.-',_) > E:.t.- (E:.wo.- E:S:.-d.u.-')(S:.E:A:T:.-) > E:.l.- (E:.wo.- E:.-U:.d.-l.-' E:S:.-d.u.-')(n.-T:.U:.-') > E:.f.- (E:.wo.- E:S:.-d.u.-')(n.i.-d.i.-t.u.-')]\",\n",
       " \"[E:.b.E:B:.- ! E:.f.- (E:.U:.c.- E:.wo.- E:.-n.E:U:.-' E:S:.-d.u.-')(f.a.-m.a.-')]\",\n",
       " \"[E:.b.E:B:.- ! E:A:. (E:.wo.- E:S:.-d.u.-')(l.-y.-'E:U:.t.-l.-'E:U:.t.-l.-',) > E:A:. E:U:. ()]\",\n",
       " \"[E:.b.E:B:.- ! E:.f.- (E:.wo.- E:S:.-d.u.-')(b.-S:.A:.-'T:.-'T:.-',)]\",\n",
       " \"[E:.b.E:B:.- E:B:. (E:.-wa.-t.o.-' E:.-'we.-S:.-'t.o.-',)(i.k.-) > ! E:.d.- (E:.wo.- E:S:.-d.u.-')]\",\n",
       " \"[E:.b.E:B:.- ! E:A:. (E:.wo.- E:S:.-d.u.-')(wa.)]\",\n",
       " \"[E:.b.E:B:.- ! E:A:. (E:.wo.- E:S:.-d.u.-')(b.-S:.A:.-'S:.-'S:.-',) > E:A:. E:A:. (E:.wo.- E:S:.-d.u.-')(k.a.-k.a.-')]\",\n",
       " \"[E:.b.E:B:.- ! E:.l.- (E:.wo.- E:.-U:.b.-l.-' E:S:.-d.u.-')(k.i.-l.i.-')]\",\n",
       " \"[E:.b.E:B:.- E:S:. (E:.-wa.-t.o.-' E:.-'wu.-S:.-'t.o.-',)(u.A:.-) > ! E:.n.- (E:.wo.- E:S:.-d.u.-')(l.-T:.U:.-',n.-T:.A:.-',t.o.-f.o.-',_) > E:.n.- E:U:. () > E:.t.- (E:.wo.- E:S:.-d.u.-')(S:.E:A:S:.-) > E:.l.- (E:.wo.- E:.-U:.d.-l.-' E:S:.-d.u.-')(n.-T:.U:.-') > E:.f.- (E:.wo.- E:S:.-d.u.-')(n.i.-d.i.-t.u.-')]\",\n",
       " \"[E:.b.E:B:.- ! E:.s.- (E:.we.- E:S:.p.- E:S:.-d.u.-')(B:.B:.n.-k.-u.S:.-' f.-S:.A:.-')]\",\n",
       " \"[E:.b.E:B:.- E:B:. (E:.-wa.-t.o.-' E:.-'we.-S:.-'t.o.-',)(i.k.-) > ! E:.d.- (E:.wo.- E:.-n.E:U:.-' E:S:.-d.u.-')(t.e.-n.u.-')]\",\n",
       " \"[E:.b.E:B:.- ! E:A:. (E:.wo.- E:S:.-d.u.-')(a.)]\",\n",
       " \"[E:.b.E:B:.- E:S:. (E:.-wa.-t.o.-' E:.-'wu.-S:.-'t.o.-',)(u.A:.-) > ! E:.n.- (E:.wo.- E:S:.-d.u.-')(l.-T:.U:.-',n.-T:.A:.-',t.o.-f.o.-',_) > E:.t.- (E:.wo.- E:S:.-d.u.-')(S:.E:A:S:.-) > E:.l.- (E:.wo.- E:.-U:.d.-l.-' E:S:.-d.u.-')(n.-T:.U:.-') > E:.f.- (E:.wo.- E:S:.-d.u.-')(n.i.-d.i.-t.u.-')]\",\n",
       " \"[E:.b.E:B:.- ! E:.l.- (E:.wo.- E:.-A:.f.-l.-' E:S:.-d.u.-')(k.i.-l.i.-')]\",\n",
       " \"[E:.b.E:B:.- ! E:.f.- (E:.U:.c.- E:.wo.- E:.-n.S:.-' E:S:.-d.u.-')(f.a.-m.a.-')]\",\n",
       " \"[E:.b.E:B:.- ! E:.s.- (E:.wo.- E:S:.-d.u.-')(E:.A:.x.- s.e.-s.u.-')]\",\n",
       " \"[E:.b.E:B:.- ! E:.f.- (E:.wo.- E:S:.-d.u.-')(t.e.-f.u.-')]\",\n",
       " \"[E:.b.E:B:.- E:B:. (E:.-wa.-t.o.-' E:.-'we.-S:.-'t.o.-',)(i.k.-) > ! E:.k.- (E:.wo.- E:.-n.S:.-' E:S:.-d.u.-')]\",\n",
       " \"[E:.b.E:B:.- ! E:.l.- (E:.wo.- E:.-A:.l.-l.-' E:S:.-d.u.-')(k.i.-l.i.-')]\",\n",
       " \"[E:.b.E:B:.- E:T:. (E:.-wa.-t.o.-' E:.-'wu.-S:.-'t.o.-',)(a.T:.-) > ! E:.l.- (E:.wo.- E:S:.-d.u.-')]\",\n",
       " \"[E:.b.E:B:.- ! E:.l.- (E:.wo.- E:.-T:.f.-l.-' E:B:.-d.u.-')(b.-S:.A:.-'T:.-'T:.-',)]\",\n",
       " \"[E:.b.E:B:.- ! E:.l.- (E:.wo.- E:.-A:.t.-l.-' E:S:.-d.u.-')(k.i.-l.i.-')]\",\n",
       " \"[E:.b.E:B:.- E:S:. (E:.-wa.-t.o.-' E:.-'wu.-S:.-'t.o.-',)(u.A:.-) > ! E:.n.- (E:.wo.- E:S:.-d.u.-')(l.-T:.U:.-',n.-T:.A:.-',t.o.-f.o.-',_) > E:.t.- (E:.wo.- E:S:.-d.u.-')(p.E:S:B:.-) > E:.l.- (E:.wo.- E:.-U:.d.-l.-' E:S:.-d.u.-')(n.-T:.U:.-') > E:.f.- (E:.wo.- E:S:.-d.u.-')(n.i.-d.i.-t.u.-')]\",\n",
       " \"[E:.b.E:B:.- E:B:. (E:.-wa.-t.o.-' E:.-'we.-S:.-'t.o.-',)(i.k.-) > E:.n.- (E:.wo.- E:.-n.S:.-' E:S:.-d.u.-')(t.a.-b.a.-f.o.-') > ! E:.d.- (E:.wo.- E:.-n.E:U:.-' E:S:.-d.u.-')(t.e.-n.u.-') > E:.k.- (E:.wo.- E:.-n.S:.-' E:S:.-d.u.-')(b.a.-b.a.-f.o.-')]\",\n",
       " \"[E:.b.E:B:.- ! E:A:. (E:.wo.- E:S:.-d.u.-')(f.u.-wu.f.U:.-')(E:U:A:.)]\",\n",
       " \"[E:.b.E:B:.- ! E:.f.- (E:.U:.j.- E:.wo.- E:S:.-d.u.-')(l.o.-m.o.-')]\",\n",
       " \"[E:.b.E:B:.- ! E:A:. (E:.wo.- E:S:.-d.u.-')(s.e.-k.u.-wa.e.-')(E:U:A:.)]\",\n",
       " \"[E:.b.E:B:.- E:S:. (E:.-wa.-t.o.-' E:.-'wu.-S:.-'t.o.-',)(u.A:.-) > ! E:.n.- (E:.wo.- E:S:.-d.u.-')(l.-T:.U:.-',n.-T:.A:.-',t.o.-f.o.-',_) > E:.n.- E:U:. () > E:.l.- (E:.wo.- E:.-U:.d.-l.-' E:S:.-d.u.-')(n.-T:.U:.-') > E:.f.- (E:.wo.- E:S:.-d.u.-')(n.i.-d.i.-t.u.-')]\",\n",
       " \"[E:.b.E:B:.- ! E:.f.- (E:.U:.c.- E:.wo.- E:.-n.S:.-' E:S:.-d.u.-')(l.o.-m.o.-')]\",\n",
       " \"[E:.b.E:B:.- ! E:.f.- (E:.wo.- E:.A:.c.- E:.-n.E:U:.-' E:S:.-d.u.-')(f.a.-m.a.-')]\",\n",
       " \"[E:.b.E:B:.- E:S:. (E:.-wa.-t.o.-' E:.-'wu.-S:.-'t.o.-',)(u.A:.-) > ! E:.n.- (E:.wo.- E:S:.-d.u.-')(l.-T:.U:.-',n.-T:.A:.-',t.o.-f.o.-',_) > E:.n.- E:U:. () > E:.t.- (E:.wo.- E:S:.-d.u.-')(S:.E:A:T:.-) > E:.l.- (E:.wo.- E:.-U:.d.-l.-' E:S:.-d.u.-')(n.-T:.U:.-') > E:.f.- (E:.wo.- E:S:.-d.u.-')(n.i.-d.i.-t.u.-')]\",\n",
       " \"[E:.b.E:B:.- ! E:A:. (E:.wo.- E:S:.-d.u.-')(k.i.-l.i.-') > E:A:. E:U:. ()]\",\n",
       " \"[E:.b.E:B:.- ! E:A:. (E:.wo.- E:S:.-d.u.-')(b.-S:.A:.-'T:.-'T:.-',)]\",\n",
       " \"[E:.b.E:B:.- ! E:A:. (E:.wo.- E:S:.-d.u.-')(f.u.-wu.f.S:.-')(E:U:A:.)]\",\n",
       " \"[E:.b.E:B:.- ! E:.s.- (E:.wo.- E:S:.-d.u.-')(b.-S:.A:.-'T:.-'T:.-',)]\",\n",
       " \"[E:.b.E:B:.- E:B:. (E:.-wa.-t.o.-' E:.-'wu.-S:.-'t.o.-',)(e.) > ! E:.n.- (E:.wo.- E:S:.-d.u.-') > E:.d.- (E:.wo.- E:S:.-d.u.-')(m.-S:.U:.-')]\",\n",
       " \"[E:.b.E:B:.- ! E:.s.- (E:.wo.- E:T:.d.- E:S:.-d.u.-')(s.-S:.U:.-' s.-S:.A:.-')]\",\n",
       " \"[E:.b.E:B:.- ! E:A:. (E:.wo.- E:S:.-d.u.-')(f.i.-b.i.-') > E:A:. E:U:. ()]\",\n",
       " \"[E:.b.E:B:.- ! E:A:. (E:.wo.- E:S:.-d.u.-')(k.a.-) > E:A:. E:A:. (E:.wo.- E:S:.-d.u.-')(t.i.-s.i.-'u.B:.-U:.-'wa.-',)]\",\n",
       " \"[E:.b.E:B:.- E:S:. (E:.-wa.-t.o.-' E:.-'wu.-S:.-'t.o.-',)(u.A:.-) > ! E:.n.- (E:.wo.- E:S:.-d.u.-')(l.-T:.U:.-',n.-T:.A:.-',t.o.-f.o.-',_) > E:.n.- E:U:. () > E:.t.- (E:.wo.- E:S:.-d.u.-')(p.E:S:B:.-) > E:.l.- (E:.wo.- E:.-U:.d.-l.-' E:S:.-d.u.-')(n.-T:.U:.-') > E:.f.- (E:.wo.- E:S:.-d.u.-')(n.i.-d.i.-t.u.-')]\",\n",
       " \"[E:.b.E:B:.- E:S:. (E:.-wa.-t.o.-' E:.-'wu.-S:.-'t.o.-',)(u.S:.-) > ! E:.s.- (E:.wa.- E:S:.-d.u.-')(E:T:.x.-)]\",\n",
       " \"[E:.b.E:B:.- E:S:. (E:.-wa.-t.o.-' E:.-'wu.-S:.-'t.o.-',)(u.A:.-) > ! E:.n.- (E:.wo.- E:S:.-d.u.-')(l.-T:.U:.-',n.-T:.A:.-',t.o.-f.o.-',_) > E:.n.- E:U:. () > E:.l.- (E:.wo.- E:.-U:.d.-l.-' E:S:.-d.u.-')(n.-T:.U:.-') > E:.f.- (E:.wo.- E:S:.-d.u.-')(n.i.-d.i.-t.u.-') > E:.s.- (E:.wo.- E:T:.h.- E:S:.-d.u.-')(s.j.- d.-S:.U:.-')]\",\n",
       " \"[E:.b.E:B:.- E:B:. (E:.-wa.-t.o.-' E:.-'we.-S:.-'t.o.-',)(e.i.-) > ! E:.n.- (E:.wo.- E:S:.-d.u.-')]\",\n",
       " \"[E:.b.E:B:.- ! E:A:. (E:.wo.- E:S:.-d.u.-')(m.-B:.A:.-') > E:A:. E:A:. (E:.wo.- E:B:.-d.u.-')(p.E:A:T:.-)]\",\n",
       " \"[E:.b.E:B:.- ! E:.f.- (E:.U:.c.- E:.wo.- E:.-n.E:U:.-' E:S:.-d.u.-')(l.o.-m.o.-')]\",\n",
       " \"[E:.b.E:B:.- E:B:. (E:.-wa.-t.o.-' E:.-'we.-S:.-'t.o.-',)(i.k.-) > ! E:.n.- (E:.wo.- E:.-n.S:.-' E:S:.-d.u.-')(t.a.-b.a.-f.o.-')]\",\n",
       " \"[E:.b.E:B:.- ! E:.l.- (E:.wo.- E:.-U:.l.-l.-' E:S:.-d.u.-')(k.i.-l.i.-')]\",\n",
       " \"[E:.b.E:B:.- E:B:. (E:.-wa.-t.o.-' E:.-'we.-S:.-'t.o.-',)(e.i.-) > ! E:.k.- (E:.wo.- E:S:.-d.u.-')]\",\n",
       " \"[E:.b.E:B:.- ! E:A:. (E:.wo.- E:S:.-d.u.-')(k.x.-) > E:A:. E:A:. (E:.wo.- E:S:.-d.u.-')(t.i.-s.i.-'u.B:.-U:.-'wa.-',)]\",\n",
       " \"[E:.b.E:B:.- ! E:.f.- (E:.U:.c.- E:.wo.- E:S:.-d.u.-')(m.a.-f.a.-')]\",\n",
       " '[E:.b.E:T:.- ! E:U:. ()]',\n",
       " \"[E:.b.E:T:.- ! E:U:. (E:U:S:.)(f.i.-b.i.-')]\",\n",
       " \"[E:.b.E:T:.- ! E:U:. (E:.A:.c.-)(f.a.-m.a.-')]\",\n",
       " \"[E:.b.E:T:.- ! E:U:. (E:.U:.c.-)(f.a.-m.a.-')]\",\n",
       " \"[E:.b.E:T:.- ! E:U:. (E:A:T:. E:B:.-d.u.-')(m.-T:.U:.-')]\",\n",
       " \"[E:.b.E:T:.- ! E:U:. (E:.U:.j.-)(n.i.-d.i.-t.u.-')]\",\n",
       " '[E:.b.E:T:.- ! E:U:. (E:A:T:.)(p.E:A:T:.-)]',\n",
       " \"[E:.b.E:T:.- ! E:U:. (E:A:T:.)(t.o.-p.-')]\",\n",
       " \"[E:.b.E:T:.- E:T:. (E:.-wa.-t.o.-' E:.-'we.-S:.-'t.o.-',)(e.)(E:.b.wa.-) > E:.n.- (E:.wo.- E:S:.-d.u.-') > ! E:.n.- E:U:. () > E:.d.- (E:.wo.- E:S:.-d.u.-')(m.-S:.U:.-')]\",\n",
       " \"[E:.b.E:T:.- E:A:. (E:.wo.- E:.-n.S:.-' E:S:.-d.u.-')(b.a.- b.o.-n.o.-s.u.-' f.a.-b.a.-f.o.-') > E:A:. E:A:. (E:.wo.- E:S:.-d.u.-')(n.-S:.U:.-'B:.-'B:.-',B:.-',B:.-',_ n.-S:.U:.-'B:.-'B:.-',T:.-',S:.-',_) > ! E:A:. E:U:. ()]\",\n",
       " \"[E:.b.E:S:.- ! E:T:. (E:.-wa.-t.o.-' E:.-'wu.-S:.-'t.o.-',)(i.S:.-)]\",\n",
       " \"[E:.b.E:S:.- ! E:S:. (E:.-wa.-t.o.-' E:.-'wu.-S:.-'t.o.-',)(wa.we.t.-)(E:.b.o.-) > E:.s.- (E:.wo.- E:T:.c.- E:S:.-d.u.-')(m.u.-)]\",\n",
       " \"[E:.b.E:S:.- ! E:S:. (E:.-wa.-t.o.-' E:.-'wu.-S:.-'t.o.-',)(wo.) > E:.l.- (E:.wo.- E:.-B:.k.-l.-' E:S:.-d.u.-') > E:.l.- E:A:. (E:.wo.- E:S:.-d.u.-')(m.-T:.A:.-'m.-S:.U:.-'E:A:T:.-',)]\",\n",
       " \"[E:.b.E:S:.- ! E:S:. (E:.-wa.-t.o.-' E:.-'wu.-S:.-'t.o.-',)(f.o.-d.o.-')(E:.b.wa.-)]\",\n",
       " \"[E:.b.E:S:.- ! E:S:. (E:.-wa.-t.o.-' E:.-'wu.-S:.-'t.o.-',)(wa.) > E:.n.- (E:.wo.- E:S:.-d.u.-')(n.i.-s.i.-') > E:.f.- (E:.wo.- E:S:.-d.u.-' E:T:.-t.u.-')]\",\n",
       " \"[E:.b.E:S:.- ! E:S:. (E:.-wa.-t.o.-' E:S:.-t.o.-' E:.-'wu.-S:.-'t.o.-',)(e.U:.-)]\",\n",
       " \"[E:.b.E:S:.- ! E:T:. (E:.-wa.-t.o.-' E:.-'we.-S:.-'t.o.-',)(t.e.-f.u.-')]\",\n",
       " \"[E:.b.E:S:.- ! E:B:. (E:.-wa.-t.o.-' E:.-'wu.-S:.-'t.o.-',)(we.)(E:.b.wa.-)]\",\n",
       " \"[E:.b.E:S:.- ! E:S:. (E:.-wa.-t.o.-' E:S:.-t.o.-' E:.-'wu.-S:.-'t.o.-',)(u.A:.-) > E:.l.- (E:.wo.- E:.-U:.d.-l.-' E:S:.-d.u.-')(n.-T:.A:.-') > E:.f.- (E:.wo.- E:S:.-d.u.-')(l.o.-m.o.-s.u.-') > E:.s.- (E:.wo.- E:T:.x.- E:S:.-d.u.-')(n.i.-f.i.-')]\",\n",
       " \"[E:.b.E:S:.- ! E:S:. (E:.-wa.-t.o.-' E:T:.-t.o.-' E:.-'wu.-S:.-'t.o.-',)(u.A:.-) > E:.l.- (E:.wo.- E:.-U:.d.-l.-' E:S:.-d.u.-')(n.-T:.U:.-') > E:.f.- (E:.U:.j.- E:.wo.- E:S:.-d.u.-')(l.o.-m.o.-s.u.-') > E:.s.- (E:.wo.- E:T:.x.- E:S:.-d.u.-')(t.i.-s.i.-'u.S:.-U:.-'wa.-',)]\",\n",
       " \"[E:.b.E:S:.- ! E:S:. (E:.-wa.-t.o.-' E:.-'wu.-S:.-'t.o.-',)(wo.) > E:.n.- (E:.wo.- E:S:.-d.u.-')(f.i.-k.i.-') > E:.f.- (E:U:S:. E:.wo.- E:S:.-d.u.-')]\",\n",
       " \"[E:.b.E:S:.- ! E:B:. (E:.-wa.-t.o.-' E:.-'wu.-S:.-'t.o.-',)(e.c.-) > E:.d.- (E:.wo.- E:S:.-d.u.-')(t.i.-s.i.-')]\",\n",
       " \"[E:.b.E:S:.- ! E:S:. (E:.-wa.-t.o.-' E:T:.-t.o.-' E:.-'wu.-S:.-'t.o.-',)(e.U:.-)]\",\n",
       " \"[E:.b.E:S:.- ! E:S:. (E:.-wa.-t.o.-' E:.-'we.-S:.-'t.o.-',)(b.-T:.A:.-')]\",\n",
       " \"[E:.b.E:S:.- ! E:S:. (E:.-wa.-t.o.-' E:B:.-t.o.-' E:.-'wu.-S:.-'t.o.-',)(e.U:.-)]\",\n",
       " \"[E:.b.E:S:.- ! E:S:. (E:.-wa.-t.o.-' E:.-'wu.-B:.-'t.o.-',)(a.u.-)]\",\n",
       " \"[E:.b.E:S:.- ! E:S:. (E:.-wa.-t.o.-' E:T:.-t.o.-' E:.-'wu.-S:.-'t.o.-',)(A:.a.-) > E:.d.- (E:.wo.- E:S:.-d.u.-')(l.j.-)]\",\n",
       " \"[E:.b.E:S:.- ! E:B:. (E:.-wa.-t.o.-' E:.-'wu.-S:.-'t.o.-',)(a.T:.-)(E:.b.i.-)]\",\n",
       " \"[E:.b.E:S:.- ! E:B:. (E:.-wa.-t.o.-' E:.-'wu.-S:.-'t.o.-',)(u.a.-) > E:.s.- (E:.wo.- E:T:.c.- E:S:.-d.u.-')(p.we.-)]\",\n",
       " \"[E:.b.E:S:.- ! E:S:. (E:.-wa.-t.o.-' E:.-'wu.-S:.-'t.o.-',)(u.A:.-) > E:.l.- (E:.wo.- E:.-U:.s.-l.-' E:S:.-d.u.-')(l.-y.-'E:U:.n.-l.-'E:U:.s.-l.-',) > E:.f.- (E:.wo.- E:S:.-d.u.-')(i.c.-) > E:.s.- (E:.wo.- E:T:.x.- E:S:.-d.u.-')(B:.B:.n.-k.-u.T:.-')]\",\n",
       " \"[E:.b.E:S:.- ! E:T:. (E:.-wa.-t.o.-' E:.-'we.-S:.-'t.o.-',)(t.)]\",\n",
       " \"[E:.b.E:S:.- ! E:S:. (E:.-wa.-t.o.-' E:S:.-t.o.-' E:.-'wu.-S:.-'t.o.-',)(u.A:.-) > E:.l.- (E:.wo.- E:.-U:.d.-l.-' E:S:.-d.u.-')(n.-T:.U:.-') > E:.f.- (E:.wo.- E:S:.-d.u.-')(n.i.-d.i.-t.u.-') > E:.s.- (E:.wo.- E:T:.x.- E:S:.-d.u.-')(n.i.-f.i.-')]\",\n",
       " \"[E:.b.E:S:.- ! E:S:. (E:.-wa.-t.o.-' E:.-'we.-S:.-'t.o.-',)(E:S:.h.-)]\",\n",
       " \"[E:.b.E:S:.- ! E:T:. (E:.-wa.-t.o.-' E:.-'we.-S:.-'t.o.-',)(b.-T:.A:.-')]\",\n",
       " \"[E:.b.E:S:.- ! E:S:. (E:.-wa.-t.o.-' E:S:.-t.o.-' E:.-'wu.-S:.-'t.o.-',)(u.A:.-) > E:.l.- (E:.wo.- E:.-U:.d.-l.-' E:S:.-d.u.-')(n.-T:.A:.-') > E:.f.- (E:.U:.j.- E:.wo.- E:S:.-d.u.-')(l.o.-m.o.-s.u.-') > E:.s.- (E:.wo.- E:T:.x.- E:S:.-d.u.-')(n.i.-f.i.-')]\",\n",
       " \"[E:.b.E:S:.- ! E:S:. (E:.-wa.-t.o.-' E:.-'we.-S:.-'t.o.-',)(s.we.-)]\",\n",
       " \"[E:.b.E:S:.- ! E:T:. (E:.-wa.-t.o.-' E:.-'we.-S:.-'t.o.-',)(a.T:.-) > E:.f.- (E:.wo.- E:S:.-d.u.-')(E:T:.-t.u.-')]\",\n",
       " \"[E:.b.E:S:.- ! E:B:. (E:.-wa.-t.o.-' E:.-'wu.-S:.-'t.o.-',)(we.)(E:.b.wa.-) > E:.d.- (E:.wo.- E:S:.-d.u.-')(m.-T:.U:.-') > E:.d.- E:U:. ()]\",\n",
       " \"[E:.b.E:S:.- ! E:S:. (E:.-wa.-t.o.-' E:.-'we.-S:.-'t.o.-',)(s.c.-)]\",\n",
       " \"[E:.b.E:S:.- ! E:S:. (E:.-wa.-t.o.-' E:S:.-t.o.-' E:.-'wu.-S:.-'t.o.-',)(u.A:.-) > E:.l.- (E:.wo.- E:.-U:.d.-l.-' E:S:.-d.u.-')(n.-T:.U:.-') > E:.f.- (E:.wo.- E:S:.-d.u.-')(l.o.-m.o.-s.u.-') > E:.s.- (E:.wo.- E:T:.x.- E:S:.-d.u.-')(n.i.-f.i.-')]\",\n",
       " \"[E:.b.E:S:.- ! E:S:. (E:.-wa.-t.o.-' E:.-'wu.-S:.-'t.o.-',)(m.-T:.A:.-'m.-S:.U:.-'E:A:T:.-',)(E:.b.wa.-)]\",\n",
       " \"[E:.b.E:S:.- ! E:S:. (E:.-wa.-t.o.-' E:.-'we.-S:.-'t.o.-',)(l.-T:.U:.-',n.-T:.A:.-',t.o.-f.o.-',_)]\",\n",
       " \"[E:.b.E:S:.- ! E:T:. (E:.-wa.-t.o.-' E:.-'we.-S:.-'t.o.-',)(l.i.-n.i.-')]\",\n",
       " \"[E:.b.E:S:.- ! E:S:. (E:.-wa.-t.o.-' E:.-'wu.-S:.-'t.o.-',)(i.S:.-)]\",\n",
       " \"[E:.b.E:S:.- ! E:T:. (E:.-wa.-t.o.-' E:.-'wu.-S:.-'t.o.-',)(wu.f.B:.-) > E:.d.- (E:.wo.- E:S:.-d.u.-')(f.-S:.A:.-')]\",\n",
       " \"[E:.b.E:S:.- ! E:S:. (E:.-wa.-t.o.-' E:.-'wu.-S:.-'t.o.-',)(wa.) > E:.n.- (E:.wo.- E:S:.-d.u.-')(n.i.-s.i.-') > E:.f.- (E:U:S:. E:.wo.- E:S:.-d.u.-')]\",\n",
       " \"[E:.b.E:S:.- ! E:T:. (E:.-wa.-t.o.-' E:.-'wu.-S:.-'t.o.-',)(i.) > E:.n.- (E:.wo.- E:S:.-d.u.-')(t.i.-s.i.-'u.T:.-U:.-'we.-',B:.-',_B:.-',_;) > E:.f.- (E:U:S:. E:.wo.- E:S:.-d.u.-')]\",\n",
       " \"[E:.b.E:S:.- ! E:S:. (E:.-wa.-t.o.-' E:S:.-t.o.-' E:.-'wu.-S:.-'t.o.-',)(n.u.-s.u.-')(E:.b.we.-)]\",\n",
       " \"[E:.b.E:S:.- ! E:S:. (E:.-wa.-t.o.-' E:.-'wu.-S:.-'t.o.-',)(u.A:.-) > E:.l.- (E:.wo.- E:.-U:.s.-l.-' E:S:.-d.u.-')]\",\n",
       " \"[E:.b.E:S:.- ! E:T:. (E:.-wa.-t.o.-' E:.-'wu.-S:.-'t.o.-',)(a.T:.-)]\",\n",
       " \"[E:.b.E:S:.- ! E:S:. (E:.-wa.-t.o.-' E:B:.-t.o.-' E:.-'wu.-S:.-'t.o.-',)(A:.a.-) > E:.d.- (E:.wo.- E:S:.-d.u.-')(l.j.-)]\",\n",
       " \"[E:.b.E:S:.- ! E:S:. (E:.-wa.-t.o.-' E:.-'wu.-S:.-'t.o.-',)(wa.wo.t.-) > E:.s.- (E:.wo.- E:T:.c.- E:S:.-d.u.-')(s.c.we.-)]\",\n",
       " \"[E:.b.E:S:.- ! E:S:. (E:.-wa.-t.o.-' E:S:.-t.o.-' E:.-'wu.-S:.-'t.o.-',)(u.A:.-) > E:.l.- (E:.wo.- E:.-U:.s.-l.-' E:S:.-d.u.-')(n.-T:.U:.-') > E:.f.- (E:.U:.j.- E:.wo.- E:S:.-d.u.-')(l.o.-m.o.-s.u.-') > E:.s.- (E:.wo.- E:T:.x.- E:S:.-d.u.-')(t.i.-s.i.-'u.S:.-U:.-'wa.-',)]\",\n",
       " \"[E:.b.E:S:.- ! E:T:. (E:.-wa.-t.o.-' E:.-'we.-S:.-'t.o.-',)(E:S:.h.-)(E:.b.i.-)]\",\n",
       " \"[E:.b.E:S:.- ! E:S:. (E:.-wa.-t.o.-' E:.-'wu.-S:.-'t.o.-',)(s.)(E:S:U:. E:.b.wa.-)]\",\n",
       " \"[E:.b.E:S:.- ! E:T:. (E:.-wo.-t.o.-' E:.-'we.-S:.-'t.o.-',)(s.a.-d.a.-')]\",\n",
       " \"[E:.b.E:S:.- ! E:S:. (E:.-wa.-t.o.-' E:.-'wu.-S:.-'t.o.-',)(u.A:.-) > E:.l.- (E:.wo.- E:.-U:.s.-l.-' E:S:.-d.u.-')(l.-y.-'E:U:.n.-l.-'E:U:.s.-l.-',) > E:.f.- (E:.wo.- E:S:.-d.u.-')(i.c.-) > E:.s.- (E:.wo.- E:T:.x.- E:S:.-d.u.-')(n.i.-f.i.-')]\",\n",
       " \"[E:.b.E:S:.- ! E:S:. (E:.-wa.-t.o.-' E:.-'wu.-S:.-'t.o.-',)(we.) > E:.f.- (E:.U:.j.- E:.wo.- E:S:.-d.u.-')]\",\n",
       " \"[E:.b.E:S:.- ! E:S:. (E:.-wa.-t.o.-' E:S:.-t.o.-' E:.-'wu.-S:.-'t.o.-',)(u.A:.-) > E:.l.- (E:.wo.- E:.-U:.d.-l.-' E:S:.-d.u.-')(l.-y.-'E:U:.n.-l.-'E:U:.s.-l.-',) > E:.f.- (E:.wo.- E:S:.-d.u.-')(l.o.-m.o.-s.u.-') > E:.s.- (E:.wo.- E:T:.x.- E:S:.-d.u.-')(b.i.-n.i.-'l.i.-f.i.-'n.-B:.U:.-',)]\",\n",
       " \"[E:.b.E:S:.- ! E:S:. (E:.-wa.-t.o.-' E:.-'wu.-S:.-'t.o.-',)(u.A:.-) > E:.l.- (E:.wo.- E:.-U:.s.-l.-' E:S:.-d.u.-')(n.-T:.U:.-') > E:.f.- (E:.wo.- E:S:.-d.u.-')(l.o.-m.o.-s.u.-')]\",\n",
       " \"[E:.b.E:S:.- ! E:S:. (E:.-wa.-t.o.-' E:.-'we.-S:.-'t.o.-',)(b.-S:.A:.-'T:.-'T:.-',)]\",\n",
       " \"[E:.b.E:S:.- ! E:S:. (E:.-wa.-t.o.-' E:.-'we.-S:.-'t.o.-',)(b.-S:.A:.-')]\",\n",
       " \"[E:.b.E:S:.- ! E:T:. (E:.-wa.-t.o.-' E:.-'wu.-S:.-'t.o.-',)(a.B:.-) > E:.f.- (E:A:S:. E:.wo.- E:S:.-d.u.-')]\",\n",
       " \"[E:.b.E:S:.- ! E:T:. (E:.-wo.-t.o.-' E:.-'we.-S:.-'t.o.-',)(t.)]\",\n",
       " \"[E:.b.E:S:.- ! E:S:. (E:.-wa.-t.o.-' E:.-'wu.-S:.-'t.o.-',)(u.A:.-) > E:.l.- (E:.wo.- E:.-A:.d.-l.-' E:S:.-d.u.-')]\",\n",
       " \"[E:.b.E:S:.- ! E:S:. (E:.-wa.-t.o.-' E:.-'wu.-S:.-'t.o.-',)(u.A:.-) > E:.l.- (E:.wo.- E:.-U:.d.-l.-' E:S:.-d.u.-')]\",\n",
       " \"[E:.b.E:S:.- ! E:T:. (E:.-wa.-t.o.-' E:.-'we.-S:.-'t.o.-',)(b.-S:.A:.-')]\",\n",
       " \"[E:.b.E:S:.- ! E:T:. (E:.-wa.-t.o.-' E:.-'we.-S:.-'t.o.-',)(s.a.-d.a.-')]\",\n",
       " \"[E:.b.E:S:.- ! E:S:. (E:.-wa.-t.o.-' E:.-'wu.-S:.-'t.o.-',)(m.a.-f.a.-')]\",\n",
       " \"[E:.b.E:S:.- ! E:S:. (E:.-wa.-t.o.-' E:.-'wu.-S:.-'t.o.-',)(u.A:.-) > E:.l.- (E:.wo.- E:.-A:.s.-l.-' E:S:.-d.u.-')]\",\n",
       " \"[E:.b.E:S:.- ! E:S:. (E:.-wa.-t.o.-' E:T:.-t.o.-' E:.-'wu.-S:.-'t.o.-',)(m.-B:.A:.-')(E:.b.wa.-)]\"]"
      ]
     },
     "execution_count": 35,
     "metadata": {},
     "output_type": "execute_result"
    }
   ],
   "source": [
    "# parse all words\n",
    "usls = db.list(parse=False, type='word')\n",
    "usls"
   ]
  },
  {
   "cell_type": "code",
   "execution_count": 3,
   "metadata": {},
   "outputs": [
    {
     "data": {
      "text/plain": [
       "True"
      ]
     },
     "execution_count": 3,
     "metadata": {},
     "output_type": "execute_result"
    }
   ],
   "source": [
    "from ieml.usl import USL\n",
    "from ieml.dictionary.script import Script\n",
    "\n",
    "# the database contains the morphemes and the usls made from morphemes\n",
    "all(isinstance(u, (USL, Script)) for u in usls) "
   ]
  },
  {
   "cell_type": "code",
   "execution_count": 35,
   "metadata": {},
   "outputs": [],
   "source": [
    "descriptorsDB = db.get_descriptors()\n",
    "def display_usls(u):\n",
    "    descriptor = descriptorsDB.get_values_partial(u)\n",
    "    # descriptor is a dict :\n",
    "    # { (ieml, descriptor_type, lang) : string[]}\n",
    "    # descriptor_type in ieml.constants.DESCRIPTORS_CLASS = ['translations', 'comments', 'tags']\n",
    "    # lang in ieml.constants.LANGUAGES = [ 'fr', 'en' ]  \n",
    "    \n",
    "    return str(u) +\\\n",
    "        \"\".join(\"\\n\\t{}: {}\".format(k, str(v)) for k, v in {\n",
    "            **{'{}_{}'.format(descriptor_type, lang): ', '.join(t) \n",
    "               for (_, descriptor_type, lang), t in descriptor.items()},\n",
    "            'type': u.__class__.__name__,\n",
    "            'is_paradigm': not u.is_singular,\n",
    "            \n",
    "        }.items())"
   ]
  },
  {
   "cell_type": "code",
   "execution_count": 36,
   "metadata": {},
   "outputs": [
    {
     "name": "stdout",
     "output_type": "stream",
     "text": [
      "O:O:.\n",
      "\ten_comments: In order to understand O x O we have to think about the basic sensorimotor cycle. Let's begin with the inner sanctum of personal existence that does not manifest externally: to exist. Then, from this virtual place, we act. As a result, our actual environment is transformed and a new reality appears or happens. Finally, from the actuality of external happening, we perceive back to our inner existence. Note the two intertwined oppositions : \\n\\n• wa act (in –> out) / wu perceive (out –> in) \\n\\n• wo exist (in –> in) / we appear (out –> out)\\n\\nwo wa wu we can be used to model any quaternary semantic symmetry. They can also be used to « verbify » nominal semes when creating new words.\n",
      "\ten_translations: interaction phases, tetrad\n",
      "\tfr_translations: phases de l'interaction, tétrade\n",
      "\ttype: MultiplicativeScript\n",
      "\tis_paradigm: True\n"
     ]
    }
   ],
   "source": [
    "from ieml.usl.usl import usl\n",
    "\n",
    "# usl() parse the string and return an Usl or a Script (if a morpheme)\n",
    "oo_script = usl('O:O:.')\n",
    "assert isinstance(oo_script, Script)\n",
    "\n",
    "print(display_usls(usl('O:O:.')))"
   ]
  },
  {
   "cell_type": "code",
   "execution_count": null,
   "metadata": {},
   "outputs": [],
   "source": []
  }
 ],
 "metadata": {
  "kernelspec": {
   "display_name": "Python 3",
   "language": "python",
   "name": "python3"
  },
  "language_info": {
   "codemirror_mode": {
    "name": "ipython",
    "version": 3
   },
   "file_extension": ".py",
   "mimetype": "text/x-python",
   "name": "python",
   "nbconvert_exporter": "python",
   "pygments_lexer": "ipython3",
   "version": "3.6.7"
  }
 },
 "nbformat": 4,
 "nbformat_minor": 1
}
